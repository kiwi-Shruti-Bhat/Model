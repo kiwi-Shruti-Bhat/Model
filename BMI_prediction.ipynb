{
  "nbformat": 4,
  "nbformat_minor": 0,
  "metadata": {
    "kernelspec": {
      "display_name": "Python 3",
      "language": "python",
      "name": "python3"
    },
    "language_info": {
      "codemirror_mode": {
        "name": "ipython",
        "version": 3
      },
      "file_extension": ".py",
      "mimetype": "text/x-python",
      "name": "python",
      "nbconvert_exporter": "python",
      "pygments_lexer": "ipython3",
      "version": "3.8.5"
    },
    "colab": {
      "name": "BMI prediction.ipynb",
      "provenance": [],
      "collapsed_sections": [
        "POelmdPCdYj-"
      ],
      "include_colab_link": true
    },
    "accelerator": "GPU"
  },
  "cells": [
    {
      "cell_type": "markdown",
      "metadata": {
        "id": "view-in-github",
        "colab_type": "text"
      },
      "source": [
        "<a href=\"https://colab.research.google.com/github/kiwi-Shruti-Bhat/Model/blob/main/BMI_prediction.ipynb\" target=\"_parent\"><img src=\"https://colab.research.google.com/assets/colab-badge.svg\" alt=\"Open In Colab\"/></a>"
      ]
    },
    {
      "cell_type": "markdown",
      "metadata": {
        "id": "Vjrdb8AwdYjs"
      },
      "source": [
        "## Objective : "
      ]
    },
    {
      "cell_type": "markdown",
      "metadata": {
        "id": "winkrExOdYjw"
      },
      "source": [
        "Give a human image , identify height and weight and BMI of the individual. "
      ]
    },
    {
      "cell_type": "markdown",
      "metadata": {
        "id": "BXOmd6IhdYjw"
      },
      "source": [
        "## Solution :"
      ]
    },
    {
      "cell_type": "markdown",
      "metadata": {
        "id": "y_sKPF73dYjx"
      },
      "source": [
        "The solution has been inspired by the paper [FACE2BMI](https://arxiv.org/pdf/1703.03156.pdf). This paper shows that face can be an important estimator of your height and weight and hence the BMI. The dataset quoted in the papaer is not publicly available hence i could not use the mentioned dataset for my work. I gathered data from internet manualyy. I have used almost similar technique in which i have used the celebrity's face to estimate their height,weight and BMI. "
      ]
    },
    {
      "cell_type": "markdown",
      "metadata": {
        "id": "LxUfqSzzdYjx"
      },
      "source": [
        "## Solution workflow\n",
        "\n",
        " > Image ==> Face ==>  Face embedding ==> Height\n",
        " \n",
        " > Image ==> Face ==>  Face embedding ==> Weight\n",
        " \n",
        " > Image ==> Face ==>  Face embedding ==> BMI"
      ]
    },
    {
      "cell_type": "markdown",
      "metadata": {
        "id": "LdQW9e0TdYjx"
      },
      "source": [
        "## Data  Collection and Augmentation"
      ]
    },
    {
      "cell_type": "markdown",
      "metadata": {
        "id": "zOn2UTXddYjy"
      },
      "source": [
        "The dataset consists of 5-20 images of bollywood celeberities. The various images has been taken under different conditions so that we have enough variations.\n",
        "The images that has been taken is downloaded using google serach engine results. Care has been taken care that all the images are latest. The label for each celeberity has been noted from the publicly available forums.\n"
      ]
    },
    {
      "cell_type": "code",
      "metadata": {
        "id": "WHv99fJLdYjy"
      },
      "source": [
        "label_file = \"./BMI data - Sheet1.csv\""
      ],
      "execution_count": null,
      "outputs": []
    },
    {
      "cell_type": "code",
      "metadata": {
        "id": "UCbbrgzgdYjz"
      },
      "source": [
        "import pandas as pd"
      ],
      "execution_count": null,
      "outputs": []
    },
    {
      "cell_type": "code",
      "metadata": {
        "id": "JtJCMXNmdYjz"
      },
      "source": [
        "profile_df = pd.read_csv(label_file)"
      ],
      "execution_count": null,
      "outputs": []
    },
    {
      "cell_type": "code",
      "metadata": {
        "id": "X9LuWjhYdYj0",
        "colab": {
          "base_uri": "https://localhost:8080/",
          "height": 739
        },
        "outputId": "18ba7509-5303-429d-cc27-bcc0f75a14fb"
      },
      "source": [
        "profile_df"
      ],
      "execution_count": null,
      "outputs": [
        {
          "output_type": "execute_result",
          "data": {
            "text/html": [
              "<div>\n",
              "<style scoped>\n",
              "    .dataframe tbody tr th:only-of-type {\n",
              "        vertical-align: middle;\n",
              "    }\n",
              "\n",
              "    .dataframe tbody tr th {\n",
              "        vertical-align: top;\n",
              "    }\n",
              "\n",
              "    .dataframe thead th {\n",
              "        text-align: right;\n",
              "    }\n",
              "</style>\n",
              "<table border=\"1\" class=\"dataframe\">\n",
              "  <thead>\n",
              "    <tr style=\"text-align: right;\">\n",
              "      <th></th>\n",
              "      <th>id</th>\n",
              "      <th>UID</th>\n",
              "      <th>name</th>\n",
              "      <th>height</th>\n",
              "      <th>weight</th>\n",
              "      <th>BMI</th>\n",
              "    </tr>\n",
              "  </thead>\n",
              "  <tbody>\n",
              "    <tr>\n",
              "      <th>0</th>\n",
              "      <td>1</td>\n",
              "      <td>akshay</td>\n",
              "      <td>akshay kumar</td>\n",
              "      <td>1.78</td>\n",
              "      <td>80</td>\n",
              "      <td>25.249337</td>\n",
              "    </tr>\n",
              "    <tr>\n",
              "      <th>1</th>\n",
              "      <td>2</td>\n",
              "      <td>ja</td>\n",
              "      <td>john abraham</td>\n",
              "      <td>1.82</td>\n",
              "      <td>94</td>\n",
              "      <td>28.378215</td>\n",
              "    </tr>\n",
              "    <tr>\n",
              "      <th>2</th>\n",
              "      <td>3</td>\n",
              "      <td>varun</td>\n",
              "      <td>varun dhawan</td>\n",
              "      <td>1.68</td>\n",
              "      <td>78</td>\n",
              "      <td>27.636054</td>\n",
              "    </tr>\n",
              "    <tr>\n",
              "      <th>3</th>\n",
              "      <td>4</td>\n",
              "      <td>tiger</td>\n",
              "      <td>Tiger shroff</td>\n",
              "      <td>1.75</td>\n",
              "      <td>72</td>\n",
              "      <td>23.510204</td>\n",
              "    </tr>\n",
              "    <tr>\n",
              "      <th>4</th>\n",
              "      <td>5</td>\n",
              "      <td>salman</td>\n",
              "      <td>Salman khan</td>\n",
              "      <td>1.74</td>\n",
              "      <td>75</td>\n",
              "      <td>24.772097</td>\n",
              "    </tr>\n",
              "    <tr>\n",
              "      <th>5</th>\n",
              "      <td>6</td>\n",
              "      <td>srk</td>\n",
              "      <td>Shahrukh khan</td>\n",
              "      <td>1.73</td>\n",
              "      <td>75</td>\n",
              "      <td>25.059307</td>\n",
              "    </tr>\n",
              "    <tr>\n",
              "      <th>6</th>\n",
              "      <td>7</td>\n",
              "      <td>ayushman</td>\n",
              "      <td>ayushman khurana</td>\n",
              "      <td>1.68</td>\n",
              "      <td>72</td>\n",
              "      <td>25.510204</td>\n",
              "    </tr>\n",
              "    <tr>\n",
              "      <th>7</th>\n",
              "      <td>8</td>\n",
              "      <td>vikky</td>\n",
              "      <td>vicky kaushal</td>\n",
              "      <td>1.83</td>\n",
              "      <td>80</td>\n",
              "      <td>23.888441</td>\n",
              "    </tr>\n",
              "    <tr>\n",
              "      <th>8</th>\n",
              "      <td>9</td>\n",
              "      <td>rajkumar</td>\n",
              "      <td>rajkumar rao</td>\n",
              "      <td>1.70</td>\n",
              "      <td>72</td>\n",
              "      <td>24.913495</td>\n",
              "    </tr>\n",
              "    <tr>\n",
              "      <th>9</th>\n",
              "      <td>10</td>\n",
              "      <td>nawaz</td>\n",
              "      <td>nawazuddin</td>\n",
              "      <td>1.68</td>\n",
              "      <td>60</td>\n",
              "      <td>21.258503</td>\n",
              "    </tr>\n",
              "    <tr>\n",
              "      <th>10</th>\n",
              "      <td>11</td>\n",
              "      <td>manoj</td>\n",
              "      <td>manoj bajpayee</td>\n",
              "      <td>1.75</td>\n",
              "      <td>68</td>\n",
              "      <td>22.204082</td>\n",
              "    </tr>\n",
              "    <tr>\n",
              "      <th>11</th>\n",
              "      <td>12</td>\n",
              "      <td>anurag</td>\n",
              "      <td>Anurag kashyap</td>\n",
              "      <td>1.78</td>\n",
              "      <td>84</td>\n",
              "      <td>26.511804</td>\n",
              "    </tr>\n",
              "    <tr>\n",
              "      <th>12</th>\n",
              "      <td>13</td>\n",
              "      <td>pankaj</td>\n",
              "      <td>Pankaj Tripati</td>\n",
              "      <td>1.75</td>\n",
              "      <td>70</td>\n",
              "      <td>22.857143</td>\n",
              "    </tr>\n",
              "    <tr>\n",
              "      <th>13</th>\n",
              "      <td>14</td>\n",
              "      <td>kirron</td>\n",
              "      <td>kirron kher</td>\n",
              "      <td>1.65</td>\n",
              "      <td>68</td>\n",
              "      <td>24.977043</td>\n",
              "    </tr>\n",
              "    <tr>\n",
              "      <th>14</th>\n",
              "      <td>15</td>\n",
              "      <td>richa</td>\n",
              "      <td>richa chadhha</td>\n",
              "      <td>1.65</td>\n",
              "      <td>57</td>\n",
              "      <td>20.936639</td>\n",
              "    </tr>\n",
              "    <tr>\n",
              "      <th>15</th>\n",
              "      <td>16</td>\n",
              "      <td>kalki</td>\n",
              "      <td>kalki koechin</td>\n",
              "      <td>1.70</td>\n",
              "      <td>53</td>\n",
              "      <td>18.339100</td>\n",
              "    </tr>\n",
              "    <tr>\n",
              "      <th>16</th>\n",
              "      <td>17</td>\n",
              "      <td>radhika</td>\n",
              "      <td>Radhika apte</td>\n",
              "      <td>1.60</td>\n",
              "      <td>55</td>\n",
              "      <td>21.484375</td>\n",
              "    </tr>\n",
              "    <tr>\n",
              "      <th>17</th>\n",
              "      <td>18</td>\n",
              "      <td>anupam</td>\n",
              "      <td>anupam kher</td>\n",
              "      <td>1.68</td>\n",
              "      <td>70</td>\n",
              "      <td>24.801587</td>\n",
              "    </tr>\n",
              "    <tr>\n",
              "      <th>18</th>\n",
              "      <td>19</td>\n",
              "      <td>supriya</td>\n",
              "      <td>supriya pathak</td>\n",
              "      <td>1.63</td>\n",
              "      <td>72</td>\n",
              "      <td>27.099251</td>\n",
              "    </tr>\n",
              "    <tr>\n",
              "      <th>19</th>\n",
              "      <td>20</td>\n",
              "      <td>ratna</td>\n",
              "      <td>ratna pathak</td>\n",
              "      <td>1.63</td>\n",
              "      <td>55</td>\n",
              "      <td>20.700817</td>\n",
              "    </tr>\n",
              "    <tr>\n",
              "      <th>20</th>\n",
              "      <td>21</td>\n",
              "      <td>amir</td>\n",
              "      <td>amir khan</td>\n",
              "      <td>1.63</td>\n",
              "      <td>70</td>\n",
              "      <td>26.346494</td>\n",
              "    </tr>\n",
              "    <tr>\n",
              "      <th>21</th>\n",
              "      <td>22</td>\n",
              "      <td>arshad</td>\n",
              "      <td>arshad warsi</td>\n",
              "      <td>1.68</td>\n",
              "      <td>70</td>\n",
              "      <td>24.801587</td>\n",
              "    </tr>\n",
              "  </tbody>\n",
              "</table>\n",
              "</div>"
            ],
            "text/plain": [
              "    id       UID              name  height  weight        BMI\n",
              "0    1    akshay      akshay kumar    1.78      80  25.249337\n",
              "1    2        ja      john abraham    1.82      94  28.378215\n",
              "2    3     varun      varun dhawan    1.68      78  27.636054\n",
              "3    4     tiger      Tiger shroff    1.75      72  23.510204\n",
              "4    5    salman       Salman khan    1.74      75  24.772097\n",
              "5    6       srk     Shahrukh khan    1.73      75  25.059307\n",
              "6    7  ayushman  ayushman khurana    1.68      72  25.510204\n",
              "7    8     vikky     vicky kaushal    1.83      80  23.888441\n",
              "8    9  rajkumar      rajkumar rao    1.70      72  24.913495\n",
              "9   10     nawaz        nawazuddin    1.68      60  21.258503\n",
              "10  11     manoj    manoj bajpayee    1.75      68  22.204082\n",
              "11  12    anurag    Anurag kashyap    1.78      84  26.511804\n",
              "12  13    pankaj    Pankaj Tripati    1.75      70  22.857143\n",
              "13  14    kirron       kirron kher    1.65      68  24.977043\n",
              "14  15     richa     richa chadhha    1.65      57  20.936639\n",
              "15  16     kalki     kalki koechin    1.70      53  18.339100\n",
              "16  17   radhika      Radhika apte    1.60      55  21.484375\n",
              "17  18    anupam       anupam kher    1.68      70  24.801587\n",
              "18  19   supriya    supriya pathak    1.63      72  27.099251\n",
              "19  20     ratna      ratna pathak    1.63      55  20.700817\n",
              "20  21      amir         amir khan    1.63      70  26.346494\n",
              "21  22    arshad      arshad warsi    1.68      70  24.801587"
            ]
          },
          "metadata": {},
          "execution_count": 9
        }
      ]
    },
    {
      "cell_type": "markdown",
      "metadata": {
        "id": "X52u6i6mdYj1"
      },
      "source": [
        "## How is BMI calculated?\n",
        "```\n",
        "BMI = (Weight in Kg) / ((Height in Meters) ^ 2)\n",
        "```\n"
      ]
    },
    {
      "cell_type": "markdown",
      "metadata": {
        "id": "WjvOcEC_dYj1"
      },
      "source": [
        "All the training images are kept in the following directory"
      ]
    },
    {
      "cell_type": "code",
      "metadata": {
        "id": "MLIgJ96-dYj1"
      },
      "source": [
        "data_folder = \"height_weight\""
      ],
      "execution_count": null,
      "outputs": []
    },
    {
      "cell_type": "code",
      "metadata": {
        "id": "hIxFavk8dYj1",
        "colab": {
          "base_uri": "https://localhost:8080/"
        },
        "outputId": "3480f314-e09b-4784-f981-1baf0d003290"
      },
      "source": [
        "from glob import glob\n",
        "all_files = glob(data_folder+\"/*\")\n",
        "\n",
        "all_jpgs = sorted([img for img in all_files if \".jpg\" in img or \".jpeg\" in img or \"JPG\" in img])\n",
        "\n",
        "print(\"Total {} photos \".format(len(all_jpgs)))"
      ],
      "execution_count": null,
      "outputs": [
        {
          "output_type": "stream",
          "name": "stdout",
          "text": [
            "Total 226 photos \n"
          ]
        }
      ]
    },
    {
      "cell_type": "code",
      "metadata": {
        "id": "q01CdcH_dYj2"
      },
      "source": [
        "from pathlib import Path as p"
      ],
      "execution_count": null,
      "outputs": []
    },
    {
      "cell_type": "code",
      "metadata": {
        "id": "j_aKU5O9dYj2"
      },
      "source": [
        "def get_index_of_digit(string):\n",
        "    import re\n",
        "    match = re.search(\"\\d\", p(string).stem)\n",
        "    return match.start(0)"
      ],
      "execution_count": null,
      "outputs": []
    },
    {
      "cell_type": "code",
      "metadata": {
        "id": "sbAAu8hidYj2"
      },
      "source": [
        "id_path = [(p(images).stem[:(get_index_of_digit(p(images).stem))],images) for  images in all_jpgs ]"
      ],
      "execution_count": null,
      "outputs": []
    },
    {
      "cell_type": "code",
      "metadata": {
        "id": "feN0mu_GdYj2"
      },
      "source": [
        "image_df = pd.DataFrame(id_path,columns=['UID','path'])"
      ],
      "execution_count": null,
      "outputs": []
    },
    {
      "cell_type": "code",
      "metadata": {
        "id": "o0H-Ff1YdYj2"
      },
      "source": [
        "data_df = image_df.merge(profile_df) ## merged the training images with their profile"
      ],
      "execution_count": null,
      "outputs": []
    },
    {
      "cell_type": "code",
      "metadata": {
        "scrolled": true,
        "id": "ycDA2dwcdYj3",
        "colab": {
          "base_uri": "https://localhost:8080/",
          "height": 423
        },
        "outputId": "1e62cb66-3797-45db-c2df-bb2a91d5a95d"
      },
      "source": [
        "data_df"
      ],
      "execution_count": null,
      "outputs": [
        {
          "output_type": "execute_result",
          "data": {
            "text/html": [
              "<div>\n",
              "<style scoped>\n",
              "    .dataframe tbody tr th:only-of-type {\n",
              "        vertical-align: middle;\n",
              "    }\n",
              "\n",
              "    .dataframe tbody tr th {\n",
              "        vertical-align: top;\n",
              "    }\n",
              "\n",
              "    .dataframe thead th {\n",
              "        text-align: right;\n",
              "    }\n",
              "</style>\n",
              "<table border=\"1\" class=\"dataframe\">\n",
              "  <thead>\n",
              "    <tr style=\"text-align: right;\">\n",
              "      <th></th>\n",
              "      <th>UID</th>\n",
              "      <th>path</th>\n",
              "      <th>id</th>\n",
              "      <th>name</th>\n",
              "      <th>height</th>\n",
              "      <th>weight</th>\n",
              "      <th>BMI</th>\n",
              "    </tr>\n",
              "  </thead>\n",
              "  <tbody>\n",
              "    <tr>\n",
              "      <th>0</th>\n",
              "      <td>akshay</td>\n",
              "      <td>height_weight/akshay1.jpeg</td>\n",
              "      <td>1</td>\n",
              "      <td>akshay kumar</td>\n",
              "      <td>1.78</td>\n",
              "      <td>80</td>\n",
              "      <td>25.249337</td>\n",
              "    </tr>\n",
              "    <tr>\n",
              "      <th>1</th>\n",
              "      <td>akshay</td>\n",
              "      <td>height_weight/akshay10.jpg</td>\n",
              "      <td>1</td>\n",
              "      <td>akshay kumar</td>\n",
              "      <td>1.78</td>\n",
              "      <td>80</td>\n",
              "      <td>25.249337</td>\n",
              "    </tr>\n",
              "    <tr>\n",
              "      <th>2</th>\n",
              "      <td>akshay</td>\n",
              "      <td>height_weight/akshay11.jpg</td>\n",
              "      <td>1</td>\n",
              "      <td>akshay kumar</td>\n",
              "      <td>1.78</td>\n",
              "      <td>80</td>\n",
              "      <td>25.249337</td>\n",
              "    </tr>\n",
              "    <tr>\n",
              "      <th>3</th>\n",
              "      <td>akshay</td>\n",
              "      <td>height_weight/akshay12.jpg</td>\n",
              "      <td>1</td>\n",
              "      <td>akshay kumar</td>\n",
              "      <td>1.78</td>\n",
              "      <td>80</td>\n",
              "      <td>25.249337</td>\n",
              "    </tr>\n",
              "    <tr>\n",
              "      <th>4</th>\n",
              "      <td>akshay</td>\n",
              "      <td>height_weight/akshay13.jpg</td>\n",
              "      <td>1</td>\n",
              "      <td>akshay kumar</td>\n",
              "      <td>1.78</td>\n",
              "      <td>80</td>\n",
              "      <td>25.249337</td>\n",
              "    </tr>\n",
              "    <tr>\n",
              "      <th>...</th>\n",
              "      <td>...</td>\n",
              "      <td>...</td>\n",
              "      <td>...</td>\n",
              "      <td>...</td>\n",
              "      <td>...</td>\n",
              "      <td>...</td>\n",
              "      <td>...</td>\n",
              "    </tr>\n",
              "    <tr>\n",
              "      <th>221</th>\n",
              "      <td>vikky</td>\n",
              "      <td>height_weight/vikky5.jpg</td>\n",
              "      <td>8</td>\n",
              "      <td>vicky kaushal</td>\n",
              "      <td>1.83</td>\n",
              "      <td>80</td>\n",
              "      <td>23.888441</td>\n",
              "    </tr>\n",
              "    <tr>\n",
              "      <th>222</th>\n",
              "      <td>vikky</td>\n",
              "      <td>height_weight/vikky6.jpg</td>\n",
              "      <td>8</td>\n",
              "      <td>vicky kaushal</td>\n",
              "      <td>1.83</td>\n",
              "      <td>80</td>\n",
              "      <td>23.888441</td>\n",
              "    </tr>\n",
              "    <tr>\n",
              "      <th>223</th>\n",
              "      <td>vikky</td>\n",
              "      <td>height_weight/vikky7.jpg</td>\n",
              "      <td>8</td>\n",
              "      <td>vicky kaushal</td>\n",
              "      <td>1.83</td>\n",
              "      <td>80</td>\n",
              "      <td>23.888441</td>\n",
              "    </tr>\n",
              "    <tr>\n",
              "      <th>224</th>\n",
              "      <td>vikky</td>\n",
              "      <td>height_weight/vikky8.jpg</td>\n",
              "      <td>8</td>\n",
              "      <td>vicky kaushal</td>\n",
              "      <td>1.83</td>\n",
              "      <td>80</td>\n",
              "      <td>23.888441</td>\n",
              "    </tr>\n",
              "    <tr>\n",
              "      <th>225</th>\n",
              "      <td>vikky</td>\n",
              "      <td>height_weight/vikky9.jpg</td>\n",
              "      <td>8</td>\n",
              "      <td>vicky kaushal</td>\n",
              "      <td>1.83</td>\n",
              "      <td>80</td>\n",
              "      <td>23.888441</td>\n",
              "    </tr>\n",
              "  </tbody>\n",
              "</table>\n",
              "<p>226 rows × 7 columns</p>\n",
              "</div>"
            ],
            "text/plain": [
              "        UID                        path  id  ... height  weight        BMI\n",
              "0    akshay  height_weight/akshay1.jpeg   1  ...   1.78      80  25.249337\n",
              "1    akshay  height_weight/akshay10.jpg   1  ...   1.78      80  25.249337\n",
              "2    akshay  height_weight/akshay11.jpg   1  ...   1.78      80  25.249337\n",
              "3    akshay  height_weight/akshay12.jpg   1  ...   1.78      80  25.249337\n",
              "4    akshay  height_weight/akshay13.jpg   1  ...   1.78      80  25.249337\n",
              "..      ...                         ...  ..  ...    ...     ...        ...\n",
              "221   vikky    height_weight/vikky5.jpg   8  ...   1.83      80  23.888441\n",
              "222   vikky    height_weight/vikky6.jpg   8  ...   1.83      80  23.888441\n",
              "223   vikky    height_weight/vikky7.jpg   8  ...   1.83      80  23.888441\n",
              "224   vikky    height_weight/vikky8.jpg   8  ...   1.83      80  23.888441\n",
              "225   vikky    height_weight/vikky9.jpg   8  ...   1.83      80  23.888441\n",
              "\n",
              "[226 rows x 7 columns]"
            ]
          },
          "metadata": {},
          "execution_count": 17
        }
      ]
    },
    {
      "cell_type": "markdown",
      "metadata": {
        "id": "riV6Bs4sdYj3"
      },
      "source": [
        "## Extract face embedding using facenet pretrained architecture"
      ]
    },
    {
      "cell_type": "code",
      "metadata": {
        "colab": {
          "base_uri": "https://localhost:8080/"
        },
        "id": "l8BFvQidDTAo",
        "outputId": "57c606ae-5819-4208-bbf2-79c5cbbc50c2"
      },
      "source": [
        "!pip3 install face_recognition"
      ],
      "execution_count": null,
      "outputs": [
        {
          "output_type": "stream",
          "name": "stdout",
          "text": [
            "Collecting face_recognition\n",
            "  Downloading face_recognition-1.3.0-py2.py3-none-any.whl (15 kB)\n",
            "Requirement already satisfied: Click>=6.0 in /usr/local/lib/python3.7/dist-packages (from face_recognition) (7.1.2)\n",
            "Requirement already satisfied: numpy in /usr/local/lib/python3.7/dist-packages (from face_recognition) (1.19.5)\n",
            "Requirement already satisfied: dlib>=19.7 in /usr/local/lib/python3.7/dist-packages (from face_recognition) (19.18.0)\n",
            "Collecting face-recognition-models>=0.3.0\n",
            "  Downloading face_recognition_models-0.3.0.tar.gz (100.1 MB)\n",
            "\u001b[K     |████████████████████████████████| 100.1 MB 26 kB/s \n",
            "\u001b[?25hRequirement already satisfied: Pillow in /usr/local/lib/python3.7/dist-packages (from face_recognition) (7.1.2)\n",
            "Building wheels for collected packages: face-recognition-models\n",
            "  Building wheel for face-recognition-models (setup.py) ... \u001b[?25l\u001b[?25hdone\n",
            "  Created wheel for face-recognition-models: filename=face_recognition_models-0.3.0-py2.py3-none-any.whl size=100566185 sha256=a40df89bfdf7d0d067a2d8887677cb8b8cc367f3f85a4a8db714c73c1fa15067\n",
            "  Stored in directory: /root/.cache/pip/wheels/d6/81/3c/884bcd5e1c120ff548d57c2ecc9ebf3281c9a6f7c0e7e7947a\n",
            "Successfully built face-recognition-models\n",
            "Installing collected packages: face-recognition-models, face-recognition\n",
            "Successfully installed face-recognition-1.3.0 face-recognition-models-0.3.0\n"
          ]
        }
      ]
    },
    {
      "cell_type": "code",
      "metadata": {
        "id": "6_Ib7ZdNdYj3"
      },
      "source": [
        "import face_recognition\n",
        "import numpy as np"
      ],
      "execution_count": null,
      "outputs": []
    },
    {
      "cell_type": "code",
      "metadata": {
        "id": "b7Kj7q5DdYj3"
      },
      "source": [
        "def get_face_encoding(image_path):\n",
        "    print(image_path)\n",
        "    picture_of_me = face_recognition.load_image_file(image_path)\n",
        "    my_face_encoding = face_recognition.face_encodings(picture_of_me)\n",
        "    if not my_face_encoding:\n",
        "        print(\"no face found !!!\")\n",
        "        return np.zeros(128).tolist()\n",
        "    return my_face_encoding[0].tolist()"
      ],
      "execution_count": null,
      "outputs": []
    },
    {
      "cell_type": "code",
      "metadata": {
        "id": "GVP8n-miHL1w"
      },
      "source": [
        "def get_face_test(url) :\n",
        "    response = urllib.request.urlopen(url)\n",
        "    picture_of_me = face_recognition.load_image_file(response)\n",
        "    my_face_encoding = face_recognition.face_encodings(picture_of_me)\n",
        "    if not my_face_encoding:\n",
        "        print(\"no face found !!!\")\n",
        "        return np.zeros(128).tolist()\n",
        "    return my_face_encoding[0].tolist()"
      ],
      "execution_count": null,
      "outputs": []
    },
    {
      "cell_type": "code",
      "metadata": {
        "id": "4cu4bJaNdYj4"
      },
      "source": [
        "all_faces = []"
      ],
      "execution_count": null,
      "outputs": []
    },
    {
      "cell_type": "code",
      "metadata": {
        "id": "oL4QkL-cdYj4",
        "colab": {
          "base_uri": "https://localhost:8080/"
        },
        "outputId": "688f2262-383c-4214-b274-08b352279167"
      },
      "source": [
        "for images in data_df.path:\n",
        "    face_enc = get_face_encoding(images)\n",
        "    all_faces.append(face_enc)"
      ],
      "execution_count": null,
      "outputs": [
        {
          "output_type": "stream",
          "name": "stdout",
          "text": [
            "height_weight/akshay1.jpeg\n",
            "height_weight/akshay10.jpg\n",
            "height_weight/akshay11.jpg\n",
            "height_weight/akshay12.jpg\n",
            "height_weight/akshay13.jpg\n",
            "height_weight/akshay14.jpg\n",
            "height_weight/akshay15.jpg\n",
            "height_weight/akshay16.jpg\n",
            "height_weight/akshay17.jpg\n",
            "height_weight/akshay18.jpg\n",
            "height_weight/akshay19.jpg\n",
            "height_weight/akshay2.jpeg\n",
            "no face found !!!\n",
            "height_weight/akshay20.jpg\n",
            "height_weight/akshay3.jpg\n",
            "height_weight/akshay4.jpg\n",
            "height_weight/akshay5.jpg\n",
            "height_weight/akshay6.jpg\n",
            "height_weight/akshay7.jpg\n",
            "height_weight/akshay8.jpg\n",
            "height_weight/akshay9.jpg\n",
            "height_weight/amir1.jpg\n",
            "height_weight/amir10.jpg\n",
            "height_weight/amir11.jpg\n",
            "height_weight/amir12.jpg\n",
            "height_weight/amir13.jpg\n",
            "height_weight/amir14.jpeg\n",
            "height_weight/amir15.jpg\n",
            "height_weight/amir2.jpg\n",
            "height_weight/amir3.jpg\n",
            "height_weight/amir4.jpeg\n",
            "no face found !!!\n",
            "height_weight/amir5.jpg\n",
            "height_weight/amir7.jpeg\n",
            "height_weight/amir8.jpg\n",
            "height_weight/amir9.jpg\n",
            "height_weight/anupam2.jpg\n",
            "height_weight/anupam3.jpg\n",
            "height_weight/anupam4.jpg\n",
            "height_weight/anupam5.jpg\n",
            "height_weight/anupam6.jpg\n",
            "height_weight/anupam7.jpeg\n",
            "height_weight/anupam8.jpg\n",
            "height_weight/anurag1.jpg\n",
            "height_weight/anurag2.jpg\n",
            "height_weight/anurag3.jpg\n",
            "height_weight/anurag4.jpg\n",
            "height_weight/anurag5.jpg\n",
            "height_weight/arshad1.jpg\n",
            "height_weight/arshad10.jpg\n",
            "height_weight/arshad11.jpg\n",
            "height_weight/arshad12.jpeg\n",
            "height_weight/arshad13.jpg\n",
            "height_weight/arshad14.jpg\n",
            "height_weight/arshad15.jpg\n",
            "height_weight/arshad16.jpg\n",
            "height_weight/arshad2.jpg\n",
            "height_weight/arshad3.jpeg\n",
            "height_weight/arshad4.jpg\n",
            "height_weight/arshad5.jpg\n",
            "height_weight/arshad6.jpg\n",
            "height_weight/arshad7.jpeg\n",
            "height_weight/arshad8.jpeg\n",
            "height_weight/arshad9.jpg\n",
            "height_weight/ayushman1.jpg\n",
            "height_weight/ayushman2.jpeg\n",
            "height_weight/ayushman3.JPG\n",
            "height_weight/ayushman4.jpg\n",
            "height_weight/ayushman5.jpg\n",
            "height_weight/ja1.jpg\n",
            "height_weight/ja10.jpg\n",
            "height_weight/ja11.jpg\n",
            "height_weight/ja12.jpg\n",
            "height_weight/ja13.jpeg\n",
            "height_weight/ja14.jpg\n",
            "height_weight/ja15.jpg\n",
            "height_weight/ja2.jpg\n",
            "height_weight/ja3.jpg\n",
            "height_weight/ja4.jpg\n",
            "height_weight/ja5.jpg\n",
            "height_weight/ja6.jpg\n",
            "height_weight/ja7.jpg\n",
            "height_weight/ja8.jpg\n",
            "height_weight/ja9.jpg\n",
            "height_weight/kalki1.jpg\n",
            "height_weight/kalki10.jpg\n",
            "height_weight/kalki11.jpg\n",
            "height_weight/kalki12.jpg\n",
            "height_weight/kalki13.jpeg\n",
            "height_weight/kalki14.jpg\n",
            "height_weight/kalki15.jpg\n",
            "height_weight/kalki2.jpg\n",
            "height_weight/kalki3.jpeg\n",
            "height_weight/kalki4.jpg\n",
            "height_weight/kalki5.jpg\n",
            "height_weight/kalki6.jpg\n",
            "height_weight/kalki7.jpg\n",
            "height_weight/kalki8.jpg\n",
            "height_weight/kalki9.jpg\n",
            "height_weight/kirron1.jpg\n",
            "height_weight/kirron10.jpg\n",
            "height_weight/kirron2.jpg\n",
            "height_weight/kirron3.jpg\n",
            "height_weight/kirron4.jpg\n",
            "height_weight/kirron5.jpg\n",
            "height_weight/kirron6.jpg\n",
            "height_weight/kirron7.jpg\n",
            "height_weight/kirron8.jpg\n",
            "height_weight/kirron9.jpeg\n",
            "height_weight/manoj1.jpg\n",
            "height_weight/manoj2.jpeg\n",
            "height_weight/manoj3.jpg\n",
            "height_weight/manoj4.jpg\n",
            "height_weight/manoj5.JPG\n",
            "height_weight/nawaz1.jpg\n",
            "height_weight/nawaz2.jpg\n",
            "height_weight/nawaz3.jpg\n",
            "height_weight/nawaz4.jpg\n",
            "height_weight/pankaj1.jpg\n",
            "height_weight/pankaj2.jpg\n",
            "height_weight/pankaj3.jpg\n",
            "height_weight/pankaj5.jpg\n",
            "height_weight/pankaj6.jpg\n",
            "height_weight/radhika1.jpg\n",
            "height_weight/radhika10.jpg\n",
            "height_weight/radhika11.jpg\n",
            "height_weight/radhika12.jpg\n",
            "height_weight/radhika13.jpg\n",
            "height_weight/radhika14.jpg\n",
            "height_weight/radhika15.jpg\n",
            "height_weight/radhika2.jpeg\n",
            "height_weight/radhika3.jpg\n",
            "height_weight/radhika4.jpg\n",
            "height_weight/radhika5.jpg\n",
            "height_weight/radhika6.jpg\n",
            "height_weight/radhika7.jpg\n",
            "height_weight/radhika8.jpg\n",
            "height_weight/radhika9.jpg\n",
            "height_weight/rajkumar1.jpg\n",
            "height_weight/rajkumar2.jpg\n",
            "height_weight/rajkumar3.jpg\n",
            "height_weight/rajkumar4.jpg\n",
            "height_weight/rajkumar5.jpg\n",
            "height_weight/ratna1.jpeg\n",
            "height_weight/ratna2.jpg\n",
            "height_weight/ratna3.jpg\n",
            "height_weight/ratna4.JPG\n",
            "height_weight/ratna5.jpg\n",
            "height_weight/ratna6.jpg\n",
            "height_weight/richa2.jpg\n",
            "height_weight/richa3.JPG\n",
            "height_weight/richa4.jpg\n",
            "height_weight/richa5.jpg\n",
            "height_weight/salman1.jpg\n",
            "height_weight/salman10.jpg\n",
            "height_weight/salman11.jpg\n",
            "height_weight/salman12.jpg\n",
            "height_weight/salman13.jpg\n",
            "height_weight/salman14.jpg\n",
            "height_weight/salman15.jpg\n",
            "height_weight/salman16.jpg\n",
            "height_weight/salman17.jpg\n",
            "height_weight/salman18.jpg\n",
            "height_weight/salman19.jpg\n",
            "height_weight/salman2.jpg\n",
            "height_weight/salman20.jpg\n",
            "height_weight/salman3.jpg\n",
            "height_weight/salman4.jpg\n",
            "height_weight/salman5.jpeg\n",
            "height_weight/salman6.jpg\n",
            "height_weight/salman7.jpg\n",
            "height_weight/salman8.jpg\n",
            "height_weight/salman9.jpg\n",
            "height_weight/srk1.jpg\n",
            "height_weight/srk10.jpeg\n",
            "height_weight/srk11.jpg\n",
            "height_weight/srk12.jpg\n",
            "height_weight/srk13.jpg\n",
            "height_weight/srk14.jpg\n",
            "height_weight/srk15.jpg\n",
            "height_weight/srk16.jpg\n",
            "height_weight/srk17.jpg\n",
            "height_weight/srk18.jpg\n",
            "height_weight/srk19.jpg\n",
            "height_weight/srk2.jpg\n",
            "height_weight/srk3.jpeg\n",
            "no face found !!!\n",
            "height_weight/srk4.jpg\n",
            "height_weight/srk5.jpg\n",
            "height_weight/srk6.jpg\n",
            "height_weight/srk7.jpg\n",
            "height_weight/srk8.jpg\n",
            "height_weight/srk9.jpg\n",
            "height_weight/supriya1.jpg\n",
            "height_weight/supriya2.jpg\n",
            "height_weight/supriya3.jpg\n",
            "height_weight/supriya4.jpg\n",
            "height_weight/supriya5.jpg\n",
            "height_weight/supriya6.jpg\n",
            "height_weight/tiger1.jpg\n",
            "height_weight/tiger2.jpg\n",
            "height_weight/tiger4.jpg\n",
            "height_weight/tiger5.jpg\n",
            "height_weight/tiger6.jpg\n",
            "height_weight/varun1.jpg\n",
            "height_weight/varun2.jpg\n",
            "height_weight/varun3.jpg\n",
            "height_weight/varun4.jpeg\n",
            "height_weight/varun6.jpeg\n",
            "height_weight/vikky1.jpg\n",
            "height_weight/vikky10.jpg\n",
            "height_weight/vikky11.jpg\n",
            "height_weight/vikky12.jpg\n",
            "height_weight/vikky13.jpg\n",
            "height_weight/vikky14.jpg\n",
            "height_weight/vikky15.jpg\n",
            "height_weight/vikky16.jpg\n",
            "height_weight/vikky17.jpg\n",
            "height_weight/vikky18.jpg\n",
            "height_weight/vikky19.jpg\n",
            "height_weight/vikky2.jpg\n",
            "height_weight/vikky20.jpg\n",
            "height_weight/vikky3.jpg\n",
            "height_weight/vikky4.jpg\n",
            "height_weight/vikky5.jpg\n",
            "height_weight/vikky6.jpg\n",
            "height_weight/vikky7.jpg\n",
            "height_weight/vikky8.jpg\n",
            "height_weight/vikky9.jpg\n"
          ]
        }
      ]
    },
    {
      "cell_type": "code",
      "metadata": {
        "id": "nY8iJXNfdYj4"
      },
      "source": [
        "X = np.array(all_faces) ## This is the training data matrix"
      ],
      "execution_count": null,
      "outputs": []
    },
    {
      "cell_type": "code",
      "metadata": {
        "id": "ow9SMSATdYj4"
      },
      "source": [
        "\n",
        "y_height = data_df.height.values ## all labels\n",
        "y_weight = data_df.weight.values\n",
        "y_BMI = data_df.BMI.values"
      ],
      "execution_count": null,
      "outputs": []
    },
    {
      "cell_type": "code",
      "metadata": {
        "id": "Zo9HC97IdYj4"
      },
      "source": [
        "from sklearn.model_selection import train_test_split\n",
        "X_train, X_test, y_height_train, y_height_test, y_weight_train, y_weight_test ,y_BMI_train, y_BMI_test = train_test_split(X, y_height,y_weight,y_BMI, random_state=1)"
      ],
      "execution_count": null,
      "outputs": []
    },
    {
      "cell_type": "markdown",
      "metadata": {
        "id": "Aqu90l-RdYj4"
      },
      "source": [
        "## Metric to check the goodness of fit"
      ]
    },
    {
      "cell_type": "code",
      "metadata": {
        "id": "WAhwIYeBdYj4"
      },
      "source": [
        "def report_goodness(model,X_test,y_test,predictor_log=True):\n",
        "    # Make predictions using the testing set\n",
        "    y_pred = model.predict(X_test)\n",
        "    y_true = y_test\n",
        "    if predictor_log:\n",
        "        y_true = np.log(y_test)\n",
        "    # The coefficients\n",
        "    # The mean squared error\n",
        "    print(\"Mean squared error: %.2f\"      % mean_squared_error(y_true, y_pred))\n",
        "    # Explained variance score: 1 is perfect prediction\n",
        "    print('Variance score: %.2f' % r2_score(y_true, y_pred))\n",
        "    \n",
        "    errors = abs(y_pred - y_true)\n",
        "    mape = 100 * np.mean(errors / y_true)\n",
        "    accuracy = 100 - mape\n",
        "    print('Model Performance')\n",
        "    print('Average Error: {:0.4f} degrees.'.format(np.mean(errors)))\n",
        "    print('Accuracy = {:0.2f}%.'.format(accuracy))"
      ],
      "execution_count": null,
      "outputs": []
    },
    {
      "cell_type": "markdown",
      "metadata": {
        "id": "r363SqqmdYj5"
      },
      "source": [
        "## Model selection "
      ]
    },
    {
      "cell_type": "code",
      "metadata": {
        "id": "X0A7UZD3dYj5"
      },
      "source": [
        "from sklearn.kernel_ridge import KernelRidge\n",
        "from sklearn import  linear_model\n",
        "from sklearn.svm import SVR\n",
        "from sklearn.linear_model import Ridge\n",
        "from sklearn.ensemble import RandomForestRegressor\n",
        "from sklearn.metrics import mean_squared_error, r2_score"
      ],
      "execution_count": null,
      "outputs": []
    },
    {
      "cell_type": "markdown",
      "metadata": {
        "id": "POelmdPCdYj-"
      },
      "source": [
        "## Kernel Ridge"
      ]
    },
    {
      "cell_type": "markdown",
      "metadata": {
        "id": "LKhtvyYSdYj-"
      },
      "source": [
        "## Height"
      ]
    },
    {
      "cell_type": "code",
      "metadata": {
        "id": "doXSoA1GdYj-"
      },
      "source": [
        "model_height = KernelRidge(kernel='rbf', gamma=0.21,alpha=0.0017)"
      ],
      "execution_count": null,
      "outputs": []
    },
    {
      "cell_type": "code",
      "metadata": {
        "scrolled": true,
        "id": "t0mmAqXWdYj_",
        "colab": {
          "base_uri": "https://localhost:8080/"
        },
        "outputId": "1f88f097-5e95-49f0-bfd8-12df2e69f32e"
      },
      "source": [
        "model_height = model_height.fit(X_train,np.log(y_height_train))\n",
        "\n",
        "report_goodness(model_height,X_test,y_height_test)"
      ],
      "execution_count": null,
      "outputs": [
        {
          "output_type": "stream",
          "name": "stdout",
          "text": [
            "Mean squared error: 0.00\n",
            "Variance score: 0.80\n",
            "Model Performance\n",
            "Average Error: 0.0132 degrees.\n",
            "Accuracy = 97.52%.\n"
          ]
        }
      ]
    },
    {
      "cell_type": "markdown",
      "metadata": {
        "id": "-AJgsAXTdYj_"
      },
      "source": [
        "## Weight"
      ]
    },
    {
      "cell_type": "code",
      "metadata": {
        "id": "XbDw_bmedYj_"
      },
      "source": [
        "model_weight = KernelRidge(kernel='rbf', gamma=0.21,alpha=0.0017)"
      ],
      "execution_count": null,
      "outputs": []
    },
    {
      "cell_type": "code",
      "metadata": {
        "id": "SvqzavsAdYj_",
        "colab": {
          "base_uri": "https://localhost:8080/"
        },
        "outputId": "a05d0d8f-4a9e-4680-e153-67f9a413f882"
      },
      "source": [
        "model_weight = model_weight.fit(X_train,np.log(y_weight_train))\n",
        "\n",
        "report_goodness(model_weight,X_test,y_weight_test)"
      ],
      "execution_count": null,
      "outputs": [
        {
          "output_type": "stream",
          "name": "stdout",
          "text": [
            "Mean squared error: 0.00\n",
            "Variance score: 0.86\n",
            "Model Performance\n",
            "Average Error: 0.0458 degrees.\n",
            "Accuracy = 98.92%.\n"
          ]
        }
      ]
    },
    {
      "cell_type": "markdown",
      "metadata": {
        "id": "3Ugq1qUndYj_"
      },
      "source": [
        "## BMI"
      ]
    },
    {
      "cell_type": "code",
      "metadata": {
        "id": "mvtlhVDYdYj_"
      },
      "source": [
        "model_BMI = KernelRidge(kernel='rbf', gamma=0.21,alpha=0.0017)"
      ],
      "execution_count": null,
      "outputs": []
    },
    {
      "cell_type": "code",
      "metadata": {
        "scrolled": true,
        "id": "Z9WxGAIRdYj_",
        "colab": {
          "base_uri": "https://localhost:8080/"
        },
        "outputId": "61c6e51b-7beb-454b-c84d-32cdcabcea7d"
      },
      "source": [
        "model_BMI = model_BMI.fit(X_train,np.log(y_BMI_train))\n",
        "\n",
        "report_goodness(model_BMI,X_test,y_BMI_test)"
      ],
      "execution_count": null,
      "outputs": [
        {
          "output_type": "stream",
          "name": "stdout",
          "text": [
            "Mean squared error: 0.00\n",
            "Variance score: 0.88\n",
            "Model Performance\n",
            "Average Error: 0.0311 degrees.\n",
            "Accuracy = 99.01%.\n"
          ]
        }
      ]
    },
    {
      "cell_type": "code",
      "metadata": {
        "scrolled": true,
        "id": "ckIHBoXkdYj_",
        "colab": {
          "base_uri": "https://localhost:8080/"
        },
        "outputId": "72bdd981-d55a-4cf0-b685-0eec61bcf711"
      },
      "source": [
        "report_goodness(model_BMI,X_test,y_BMI_test)"
      ],
      "execution_count": null,
      "outputs": [
        {
          "output_type": "stream",
          "name": "stdout",
          "text": [
            "Mean squared error: 0.00\n",
            "Variance score: 0.88\n",
            "Model Performance\n",
            "Average Error: 0.0311 degrees.\n",
            "Accuracy = 99.01%.\n"
          ]
        }
      ]
    },
    {
      "cell_type": "markdown",
      "metadata": {
        "id": "hg8PCUc_dYj_"
      },
      "source": [
        "## Conclusion : "
      ]
    },
    {
      "cell_type": "markdown",
      "metadata": {
        "id": "N1BOMph9dYj_"
      },
      "source": [
        "We found that kernelised Ridge regression outperformed all the models in terms of the mean squared error and expalined variance"
      ]
    },
    {
      "cell_type": "markdown",
      "metadata": {
        "id": "4wToGnmUdYkA"
      },
      "source": [
        "## save all models "
      ]
    },
    {
      "cell_type": "code",
      "metadata": {
        "id": "0RLCaHtedYkA"
      },
      "source": [
        "import joblib"
      ],
      "execution_count": null,
      "outputs": []
    },
    {
      "cell_type": "markdown",
      "metadata": {
        "id": "DVRbWYCxdYkA"
      },
      "source": [
        "# save the model to disk"
      ]
    },
    {
      "cell_type": "code",
      "metadata": {
        "id": "DA6YlRO-dYkA",
        "colab": {
          "base_uri": "https://localhost:8080/"
        },
        "outputId": "bf3dce43-47a4-4625-a0b9-770fc4a7fbdf"
      },
      "source": [
        "height_model = 'weight_predictor.model'\n",
        "weight_model = 'height_predictor.model'\n",
        "bmi_model = 'bmi_predictor.model'\n",
        "joblib.dump(model_height, height_model)\n",
        "joblib.dump(model_weight, weight_model)\n",
        "joblib.dump(model_BMI, bmi_model)"
      ],
      "execution_count": null,
      "outputs": [
        {
          "output_type": "execute_result",
          "data": {
            "text/plain": [
              "['bmi_predictor.model']"
            ]
          },
          "metadata": {},
          "execution_count": 51
        }
      ]
    },
    {
      "cell_type": "markdown",
      "metadata": {
        "id": "gdEZv6mKdYkA"
      },
      "source": [
        "# load the model from disk"
      ]
    },
    {
      "cell_type": "code",
      "metadata": {
        "id": "U7fQrFWbdYkA"
      },
      "source": [
        "height_model = joblib.load(height_model)\n",
        "weight_model = joblib.load(weight_model)\n",
        "bmi_model = joblib.load(bmi_model)"
      ],
      "execution_count": null,
      "outputs": []
    },
    {
      "cell_type": "markdown",
      "metadata": {
        "id": "y9WawQKrdYkA"
      },
      "source": [
        "## test "
      ]
    },
    {
      "cell_type": "code",
      "metadata": {
        "id": "wYjXeaIHdYkA"
      },
      "source": [
        "def predict_height_width_BMI(test_image,height_model,weight_model,bmi_model):\n",
        "    test_array = np.expand_dims(np.array(get_face_test(test_image)),axis=0)\n",
        "    height = np.asscalar(np.exp(height_model.predict(test_array)))\n",
        "    weight = np.asscalar(np.exp(weight_model.predict(test_array)))\n",
        "    bmi = np.asscalar(np.exp(bmi_model.predict(test_array)))\n",
        "    return {'height':height,'weight':weight,'bmi':bmi}\n",
        "    "
      ],
      "execution_count": null,
      "outputs": []
    },
    {
      "cell_type": "markdown",
      "metadata": {
        "id": "86gO0fuodYkA"
      },
      "source": [
        "## prediction on test images"
      ]
    },
    {
      "cell_type": "code",
      "metadata": {
        "id": "a9d-go9QdYkA"
      },
      "source": [
        "from IPython.display import Image\n",
        "from PIL import Image\n",
        "import requests\n",
        "from io import BytesIO\n",
        "\n",
        "import urllib.request"
      ],
      "execution_count": null,
      "outputs": []
    },
    {
      "cell_type": "code",
      "metadata": {
        "id": "RZd3NGjTHcgG"
      },
      "source": [
        "url = \"https://scontent-lga3-2.cdninstagram.com/v/t51.2885-15/sh0.08/e35/c0.180.1440.1440a/s640x640/84287768_128018378735197_4647999861785324604_n.jpg?_nc_ht=scontent-lga3-2.cdninstagram.com&_nc_cat=101&_nc_ohc=JTmO0eYPVZIAX9b43BA&edm=ALLxIhEBAAAA&ccb=7-4&oh=b456104b05ded883f5ef242a9da0f17d&oe=61A424CB&_nc_sid=b2a057\""
      ],
      "execution_count": null,
      "outputs": []
    },
    {
      "cell_type": "code",
      "metadata": {
        "colab": {
          "base_uri": "https://localhost:8080/"
        },
        "id": "M1G9uiROHfTd",
        "outputId": "28bc98f3-80e1-4fd4-a6dd-1b3c1394c71a"
      },
      "source": [
        "print(predict_height_width_BMI(url,height_model,weight_model,bmi_model))"
      ],
      "execution_count": null,
      "outputs": [
        {
          "output_type": "stream",
          "name": "stdout",
          "text": [
            "{'height': 1.6537956536748297, 'weight': 52.03463494747251, 'bmi': 21.79184624102154}\n"
          ]
        },
        {
          "output_type": "stream",
          "name": "stderr",
          "text": [
            "/usr/local/lib/python3.7/dist-packages/ipykernel_launcher.py:3: DeprecationWarning: np.asscalar(a) is deprecated since NumPy v1.16, use a.item() instead\n",
            "  This is separate from the ipykernel package so we can avoid doing imports until\n",
            "/usr/local/lib/python3.7/dist-packages/ipykernel_launcher.py:4: DeprecationWarning: np.asscalar(a) is deprecated since NumPy v1.16, use a.item() instead\n",
            "  after removing the cwd from sys.path.\n",
            "/usr/local/lib/python3.7/dist-packages/ipykernel_launcher.py:5: DeprecationWarning: np.asscalar(a) is deprecated since NumPy v1.16, use a.item() instead\n",
            "  \"\"\"\n"
          ]
        }
      ]
    },
    {
      "cell_type": "markdown",
      "metadata": {
        "id": "us4N14vTdYkE"
      },
      "source": [
        "## Conclusion"
      ]
    },
    {
      "cell_type": "markdown",
      "metadata": {
        "id": "c3qEacmAdYkE"
      },
      "source": [
        "Face is almost able to predict BMI correctly. There are places where it is going wrong for example if you predict heigt of really tall celebrity like rampal.\n",
        "This behavior is acceptable since we have not trained the model on such tall celebrities. Other,issue that i noticed is the face to weight tagging is not that much appropriate since the faces are from diffrent times but the weight is always the latest.\n",
        "We can get even better model if we have these mappings right.\n",
        "\n",
        "Also we can improve on height prediction if we model the torso alongwith the face. However , we need to get torso to correct height labeled data for this. In the absence of such data we can rely on the face as height estimator."
      ]
    }
  ]
}